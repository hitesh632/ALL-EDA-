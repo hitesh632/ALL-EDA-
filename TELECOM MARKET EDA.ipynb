{
 "cells": [
  {
   "cell_type": "code",
   "execution_count": 1,
   "metadata": {},
   "outputs": [],
   "source": [
    "import pandas as pd \n",
    "import numpy as np\n",
    "import warnings \n",
    "warnings.filterwarnings('ignore')\n",
    "import seaborn as sns\n",
    "import matplotlib.pyplot as plt"
   ]
  },
  {
   "cell_type": "code",
   "execution_count": 2,
   "metadata": {},
   "outputs": [
    {
     "data": {
      "text/html": [
       "<div>\n",
       "<style scoped>\n",
       "    .dataframe tbody tr th:only-of-type {\n",
       "        vertical-align: middle;\n",
       "    }\n",
       "\n",
       "    .dataframe tbody tr th {\n",
       "        vertical-align: top;\n",
       "    }\n",
       "\n",
       "    .dataframe thead th {\n",
       "        text-align: right;\n",
       "    }\n",
       "</style>\n",
       "<table border=\"1\" class=\"dataframe\">\n",
       "  <thead>\n",
       "    <tr style=\"text-align: right;\">\n",
       "      <th></th>\n",
       "      <th>Timestamp</th>\n",
       "      <th>1.Which region of India are you from?</th>\n",
       "      <th>2.Which type of location do you live in?</th>\n",
       "      <th>3.Which tech are you currently using?</th>\n",
       "      <th>4.Can you send an email with no attachments and just paragraphs of text instantly?</th>\n",
       "      <th>5.Are one-on-one video calls a smooth experience?</th>\n",
       "      <th>6.Do you experience delays in video conference calls?</th>\n",
       "      <th>7.How long does it take you to download a song of 4 minutes?</th>\n",
       "      <th>8.How much data do you use each month?</th>\n",
       "      <th>9.What do you usually do with your phone? (Multiple choices)</th>\n",
       "      <th>...</th>\n",
       "      <th>14-Jio.How much are you paying for your mobile bill &amp; WiFi services per month currently?</th>\n",
       "      <th>15-Jio.If VI lowers its price for services to the same level as Jio, will you switch to VI?</th>\n",
       "      <th>16-Jio.Rate the service quality</th>\n",
       "      <th>13-Airtel.Why do you use your current network?</th>\n",
       "      <th>14-Airtel.How much are you paying for your mobile bill &amp; WiFi services per month currently?</th>\n",
       "      <th>15-Airtel.If VI lowers its price for services to the same level as Airtel, will you switch to VI?</th>\n",
       "      <th>16-Airtel.If VI provides higher quality services with a higher price as compared to Airtel, will you switch to VI?</th>\n",
       "      <th>17-Airtel.Rate the service quality</th>\n",
       "      <th>18.How much support do you think these companies are obtaining from the government?</th>\n",
       "      <th>19.Do you think the telecommunications market in India is tilting towards a monopoly?</th>\n",
       "    </tr>\n",
       "  </thead>\n",
       "  <tbody>\n",
       "    <tr>\n",
       "      <th>0</th>\n",
       "      <td>10/28/2021 18:56:57</td>\n",
       "      <td>West</td>\n",
       "      <td>Urban</td>\n",
       "      <td>4G</td>\n",
       "      <td>Yes</td>\n",
       "      <td>Yes</td>\n",
       "      <td>No</td>\n",
       "      <td>Less than 1 min</td>\n",
       "      <td>1GB to 10GB</td>\n",
       "      <td>Social Media and Instant messaging, Online Mee...</td>\n",
       "      <td>...</td>\n",
       "      <td>NaN</td>\n",
       "      <td>NaN</td>\n",
       "      <td>NaN</td>\n",
       "      <td>NaN</td>\n",
       "      <td>NaN</td>\n",
       "      <td>NaN</td>\n",
       "      <td>NaN</td>\n",
       "      <td>NaN</td>\n",
       "      <td>7</td>\n",
       "      <td>Yes</td>\n",
       "    </tr>\n",
       "    <tr>\n",
       "      <th>1</th>\n",
       "      <td>10/28/2021 19:14:06</td>\n",
       "      <td>North</td>\n",
       "      <td>Urban</td>\n",
       "      <td>4G</td>\n",
       "      <td>Yes</td>\n",
       "      <td>Yes</td>\n",
       "      <td>Yes</td>\n",
       "      <td>Less than 1 min</td>\n",
       "      <td>10GB to 50GB</td>\n",
       "      <td>Social Media and Instant messaging, Online Sho...</td>\n",
       "      <td>...</td>\n",
       "      <td>Rs. 1000-3000</td>\n",
       "      <td>Yes</td>\n",
       "      <td>10.0</td>\n",
       "      <td>NaN</td>\n",
       "      <td>NaN</td>\n",
       "      <td>NaN</td>\n",
       "      <td>NaN</td>\n",
       "      <td>NaN</td>\n",
       "      <td>8</td>\n",
       "      <td>Yes</td>\n",
       "    </tr>\n",
       "    <tr>\n",
       "      <th>2</th>\n",
       "      <td>10/28/2021 21:30:05</td>\n",
       "      <td>West</td>\n",
       "      <td>Urban</td>\n",
       "      <td>4G</td>\n",
       "      <td>No</td>\n",
       "      <td>Yes</td>\n",
       "      <td>No</td>\n",
       "      <td>1 min to 2 mins</td>\n",
       "      <td>10GB to 50GB</td>\n",
       "      <td>Social Media and Instant messaging, Online Sho...</td>\n",
       "      <td>...</td>\n",
       "      <td>NaN</td>\n",
       "      <td>NaN</td>\n",
       "      <td>NaN</td>\n",
       "      <td>The only network that works in my bedroom</td>\n",
       "      <td>Rs. 1000-3000</td>\n",
       "      <td>Yes</td>\n",
       "      <td>Yes</td>\n",
       "      <td>7.0</td>\n",
       "      <td>8</td>\n",
       "      <td>Yes</td>\n",
       "    </tr>\n",
       "    <tr>\n",
       "      <th>3</th>\n",
       "      <td>10/28/2021 23:06:31</td>\n",
       "      <td>East</td>\n",
       "      <td>Urban</td>\n",
       "      <td>4G</td>\n",
       "      <td>Yes</td>\n",
       "      <td>Yes</td>\n",
       "      <td>No</td>\n",
       "      <td>1 min to 2 mins</td>\n",
       "      <td>10GB to 50GB</td>\n",
       "      <td>Social Media and Instant messaging, Online Rea...</td>\n",
       "      <td>...</td>\n",
       "      <td>NaN</td>\n",
       "      <td>NaN</td>\n",
       "      <td>NaN</td>\n",
       "      <td>High quality</td>\n",
       "      <td>Less than Rs. 1000</td>\n",
       "      <td>No</td>\n",
       "      <td>Yes</td>\n",
       "      <td>7.0</td>\n",
       "      <td>7</td>\n",
       "      <td>No</td>\n",
       "    </tr>\n",
       "    <tr>\n",
       "      <th>4</th>\n",
       "      <td>10/29/2021 6:35:21</td>\n",
       "      <td>West</td>\n",
       "      <td>Urban</td>\n",
       "      <td>4G</td>\n",
       "      <td>Yes</td>\n",
       "      <td>No</td>\n",
       "      <td>No</td>\n",
       "      <td>Less than 1 min</td>\n",
       "      <td>More than 50GB</td>\n",
       "      <td>Social Media and Instant messaging, Online Sho...</td>\n",
       "      <td>...</td>\n",
       "      <td>NaN</td>\n",
       "      <td>NaN</td>\n",
       "      <td>NaN</td>\n",
       "      <td>High quality</td>\n",
       "      <td>Rs. 1000-3000</td>\n",
       "      <td>Maybe</td>\n",
       "      <td>Maybe</td>\n",
       "      <td>10.0</td>\n",
       "      <td>9</td>\n",
       "      <td>Yes</td>\n",
       "    </tr>\n",
       "  </tbody>\n",
       "</table>\n",
       "<p>5 rows × 28 columns</p>\n",
       "</div>"
      ],
      "text/plain": [
       "             Timestamp 1.Which region of India are you from?  \\\n",
       "0  10/28/2021 18:56:57                                  West   \n",
       "1  10/28/2021 19:14:06                                 North   \n",
       "2  10/28/2021 21:30:05                                  West   \n",
       "3  10/28/2021 23:06:31                                  East   \n",
       "4   10/29/2021 6:35:21                                  West   \n",
       "\n",
       "  2.Which type of location do you live in?  \\\n",
       "0                                    Urban   \n",
       "1                                    Urban   \n",
       "2                                    Urban   \n",
       "3                                    Urban   \n",
       "4                                    Urban   \n",
       "\n",
       "  3.Which tech are you currently using?  \\\n",
       "0                                    4G   \n",
       "1                                    4G   \n",
       "2                                    4G   \n",
       "3                                    4G   \n",
       "4                                    4G   \n",
       "\n",
       "  4.Can you send an email with no attachments and just paragraphs of text instantly?  \\\n",
       "0                                                Yes                                   \n",
       "1                                                Yes                                   \n",
       "2                                                 No                                   \n",
       "3                                                Yes                                   \n",
       "4                                                Yes                                   \n",
       "\n",
       "  5.Are one-on-one video calls a smooth experience?  \\\n",
       "0                                               Yes   \n",
       "1                                               Yes   \n",
       "2                                               Yes   \n",
       "3                                               Yes   \n",
       "4                                                No   \n",
       "\n",
       "  6.Do you experience delays in video conference calls?  \\\n",
       "0                                                 No      \n",
       "1                                                Yes      \n",
       "2                                                 No      \n",
       "3                                                 No      \n",
       "4                                                 No      \n",
       "\n",
       "  7.How long does it take you to download a song of 4 minutes?  \\\n",
       "0                                    Less than 1 min             \n",
       "1                                    Less than 1 min             \n",
       "2                                    1 min to 2 mins             \n",
       "3                                    1 min to 2 mins             \n",
       "4                                    Less than 1 min             \n",
       "\n",
       "  8.How much data do you use each month?  \\\n",
       "0                            1GB to 10GB   \n",
       "1                           10GB to 50GB   \n",
       "2                           10GB to 50GB   \n",
       "3                           10GB to 50GB   \n",
       "4                         More than 50GB   \n",
       "\n",
       "  9.What do you usually do with your phone? (Multiple choices)  ...  \\\n",
       "0  Social Media and Instant messaging, Online Mee...            ...   \n",
       "1  Social Media and Instant messaging, Online Sho...            ...   \n",
       "2  Social Media and Instant messaging, Online Sho...            ...   \n",
       "3  Social Media and Instant messaging, Online Rea...            ...   \n",
       "4  Social Media and Instant messaging, Online Sho...            ...   \n",
       "\n",
       "   14-Jio.How much are you paying for your mobile bill & WiFi services per month currently?  \\\n",
       "0                                                NaN                                          \n",
       "1                                      Rs. 1000-3000                                          \n",
       "2                                                NaN                                          \n",
       "3                                                NaN                                          \n",
       "4                                                NaN                                          \n",
       "\n",
       "  15-Jio.If VI lowers its price for services to the same level as Jio, will you switch to VI?  \\\n",
       "0                                                NaN                                            \n",
       "1                                                Yes                                            \n",
       "2                                                NaN                                            \n",
       "3                                                NaN                                            \n",
       "4                                                NaN                                            \n",
       "\n",
       "  16-Jio.Rate the service quality  \\\n",
       "0                             NaN   \n",
       "1                            10.0   \n",
       "2                             NaN   \n",
       "3                             NaN   \n",
       "4                             NaN   \n",
       "\n",
       "  13-Airtel.Why do you use your current network?  \\\n",
       "0                                            NaN   \n",
       "1                                            NaN   \n",
       "2     The only network that works in my bedroom    \n",
       "3                                   High quality   \n",
       "4                                   High quality   \n",
       "\n",
       "  14-Airtel.How much are you paying for your mobile bill & WiFi services per month currently?  \\\n",
       "0                                                NaN                                            \n",
       "1                                                NaN                                            \n",
       "2                                      Rs. 1000-3000                                            \n",
       "3                                 Less than Rs. 1000                                            \n",
       "4                                      Rs. 1000-3000                                            \n",
       "\n",
       "  15-Airtel.If VI lowers its price for services to the same level as Airtel, will you switch to VI?  \\\n",
       "0                                                NaN                                                  \n",
       "1                                                NaN                                                  \n",
       "2                                                Yes                                                  \n",
       "3                                                 No                                                  \n",
       "4                                              Maybe                                                  \n",
       "\n",
       "   16-Airtel.If VI provides higher quality services with a higher price as compared to Airtel, will you switch to VI?  \\\n",
       "0                                                NaN                                                                    \n",
       "1                                                NaN                                                                    \n",
       "2                                                Yes                                                                    \n",
       "3                                                Yes                                                                    \n",
       "4                                              Maybe                                                                    \n",
       "\n",
       "  17-Airtel.Rate the service quality  \\\n",
       "0                                NaN   \n",
       "1                                NaN   \n",
       "2                                7.0   \n",
       "3                                7.0   \n",
       "4                               10.0   \n",
       "\n",
       "  18.How much support do you think these companies are obtaining from the government?  \\\n",
       "0                                                  7                                    \n",
       "1                                                  8                                    \n",
       "2                                                  8                                    \n",
       "3                                                  7                                    \n",
       "4                                                  9                                    \n",
       "\n",
       "  19.Do you think the telecommunications market in India is tilting towards a monopoly?  \n",
       "0                                                Yes                                     \n",
       "1                                                Yes                                     \n",
       "2                                                Yes                                     \n",
       "3                                                 No                                     \n",
       "4                                                Yes                                     \n",
       "\n",
       "[5 rows x 28 columns]"
      ]
     },
     "execution_count": 2,
     "metadata": {},
     "output_type": "execute_result"
    }
   ],
   "source": [
    "data=pd.read_csv(r'C:\\Users\\LENOVO\\Downloads\\indian telecommunications market.csv',index_col=None,header=0)\n",
    "data.head()"
   ]
  },
  {
   "cell_type": "code",
   "execution_count": 3,
   "metadata": {},
   "outputs": [
    {
     "data": {
      "text/plain": [
       "Index(['Timestamp', '1.Which region of India are you from?',\n",
       "       '2.Which type of location do you live in?',\n",
       "       '3.Which tech are you currently using?',\n",
       "       '4.Can you send an email with no attachments and just paragraphs of text instantly?',\n",
       "       '5.Are one-on-one video calls a smooth experience?',\n",
       "       '6.Do you experience delays in video conference calls?',\n",
       "       '7.How long does it take you to download a song of 4 minutes?',\n",
       "       '8.How much data do you use each month?',\n",
       "       '9.What do you usually do with your phone? (Multiple choices)',\n",
       "       '10.What do you think about the call drop rate? ',\n",
       "       '11.Which network are you likely to recommend to a tourist who is in town for a few days?',\n",
       "       '12.Which network do you use more often?',\n",
       "       '13-VI.Why do you use your current network?',\n",
       "       '14-VI.How much are you paying for your mobile bill & WiFi services per month currently?',\n",
       "       '15-VI.If Airtel lowers its price a little, or if Jio provides higher quality services, will you switch?',\n",
       "       '16-VI.Rate the service quality',\n",
       "       '13-Jio.Why do you use your current network?',\n",
       "       '14-Jio.How much are you paying for your mobile bill & WiFi services per month currently?',\n",
       "       '15-Jio.If VI lowers its price for services to the same level as Jio, will you switch to VI?',\n",
       "       '16-Jio.Rate the service quality',\n",
       "       '13-Airtel.Why do you use your current network?',\n",
       "       '14-Airtel.How much are you paying for your mobile bill & WiFi services per month currently?',\n",
       "       '15-Airtel.If VI lowers its price for services to the same level as Airtel, will you switch to VI?',\n",
       "       '16-Airtel.If VI provides higher quality services with a higher price as compared to Airtel, will you switch to VI?',\n",
       "       '17-Airtel.Rate the service quality',\n",
       "       '18.How much support do you think these companies are obtaining from the government?',\n",
       "       '19.Do you think the telecommunications market in India is tilting towards a monopoly?'],\n",
       "      dtype='object')"
      ]
     },
     "execution_count": 3,
     "metadata": {},
     "output_type": "execute_result"
    }
   ],
   "source": [
    "data.columns"
   ]
  },
  {
   "cell_type": "code",
   "execution_count": 4,
   "metadata": {},
   "outputs": [
    {
     "data": {
      "text/plain": [
       "Timestamp                                                                                                              0\n",
       "1.Which region of India are you from?                                                                                  0\n",
       "2.Which type of location do you live in?                                                                               0\n",
       "3.Which tech are you currently using?                                                                                  0\n",
       "4.Can you send an email with no attachments and just paragraphs of text instantly?                                     0\n",
       "5.Are one-on-one video calls a smooth experience?                                                                      0\n",
       "6.Do you experience delays in video conference calls?                                                                  0\n",
       "7.How long does it take you to download a song of 4 minutes?                                                           0\n",
       "8.How much data do you use each month?                                                                                 0\n",
       "9.What do you usually do with your phone? (Multiple choices)                                                           0\n",
       "10.What do you think about the call drop rate?                                                                         0\n",
       "11.Which network are you likely to recommend to a tourist who is in town for a few days?                               0\n",
       "12.Which network do you use more often?                                                                                0\n",
       "13-VI.Why do you use your current network?                                                                            40\n",
       "14-VI.How much are you paying for your mobile bill & WiFi services per month currently?                               40\n",
       "15-VI.If Airtel lowers its price a little, or if Jio provides higher quality services, will you switch?               40\n",
       "16-VI.Rate the service quality                                                                                        40\n",
       "13-Jio.Why do you use your current network?                                                                           32\n",
       "14-Jio.How much are you paying for your mobile bill & WiFi services per month currently?                              32\n",
       "15-Jio.If VI lowers its price for services to the same level as Jio, will you switch to VI?                           32\n",
       "16-Jio.Rate the service quality                                                                                       32\n",
       "13-Airtel.Why do you use your current network?                                                                        28\n",
       "14-Airtel.How much are you paying for your mobile bill & WiFi services per month currently?                           28\n",
       "15-Airtel.If VI lowers its price for services to the same level as Airtel, will you switch to VI?                     28\n",
       "16-Airtel.If VI provides higher quality services with a higher price as compared to Airtel, will you switch to VI?    28\n",
       "17-Airtel.Rate the service quality                                                                                    28\n",
       "18.How much support do you think these companies are obtaining from the government?                                    0\n",
       "19.Do you think the telecommunications market in India is tilting towards a monopoly?                                  0\n",
       "dtype: int64"
      ]
     },
     "execution_count": 4,
     "metadata": {},
     "output_type": "execute_result"
    }
   ],
   "source": [
    "data.isnull().sum()"
   ]
  },
  {
   "cell_type": "code",
   "execution_count": 5,
   "metadata": {},
   "outputs": [],
   "source": [
    "data.rename(columns ={\"1.Which region of India are you from?\":\"Q1\",'2.Which type of location do you live in?':'Q2',\n",
    "       '3.Which tech are you currently using?':'Q3',\n",
    "       '4.Can you send an email with no attachments and just paragraphs of text instantly?':'Q4',\n",
    "       '5.Are one-on-one video calls a smooth experience?':'Q5',\n",
    "       '6.Do you experience delays in video conference calls?':'Q6',\n",
    "       '7.How long does it take you to download a song of 4 minutes?':'Q7',\n",
    "       '8.How much data do you use each month?':'Q8',\n",
    "       '9.What do you usually do with your phone? (Multiple choices)':'Q9',\n",
    "       '10.What do you think about the call drop rate? ':'Q10',\n",
    "       '11.Which network are you likely to recommend to a tourist who is in town for a few days?':'Q11',\n",
    "       '12.Which network do you use more often?':'Q12',\n",
    "       '13-VI.Why do you use your current network?':'Q13-VI',\n",
    "       '14-VI.How much are you paying for your mobile bill & WiFi services per month currently?':'Q14-VI',\n",
    "       '15-VI.If Airtel lowers its price a little, or if Jio provides higher quality services, will you switch?':'Q15-VI',\n",
    "       '16-VI.Rate the service quality':'Q16-VI',\n",
    "       '13-Jio.Why do you use your current network?':'Q13-JIO',\n",
    "       '14-Jio.How much are you paying for your mobile bill & WiFi services per month currently?':'Q14-JIO',\n",
    "       '15-Jio.If VI lowers its price for services to the same level as Jio, will you switch to VI?':'Q15-JIO',\n",
    "       '16-Jio.Rate the service quality':'Q16-JIO',\n",
    "       '13-Airtel.Why do you use your current network?':'Q13-AIRTEL',\n",
    "       '14-Airtel.How much are you paying for your mobile bill & WiFi services per month currently?':'Q14-AIRTEL',\n",
    "       '15-Airtel.If VI lowers its price for services to the same level as Airtel, will you switch to VI?':'Q15-AIRTEL',\n",
    "       '16-Airtel.If VI provides higher quality services with a higher price as compared to Airtel, will you switch to VI?':'Q16-AIRTEL',\n",
    "       '17-Airtel.Rate the service quality':'Q17-AIRTEL',\n",
    "       '18.How much support do you think these companies are obtaining from the government?':'Q18',\n",
    "       '19.Do you think the telecommunications market in India is tilting towards a monopoly?':'Q19'},inplace=True)\n"
   ]
  },
  {
   "cell_type": "code",
   "execution_count": 6,
   "metadata": {},
   "outputs": [
    {
     "data": {
      "text/plain": [
       "Index(['Timestamp', 'Q1', 'Q2', 'Q3', 'Q4', 'Q5', 'Q6', 'Q7', 'Q8', 'Q9',\n",
       "       'Q10', 'Q11', 'Q12', 'Q13-VI', 'Q14-VI', 'Q15-VI', 'Q16-VI', 'Q13-JIO',\n",
       "       'Q14-JIO', 'Q15-JIO', 'Q16-JIO', 'Q13-AIRTEL', 'Q14-AIRTEL',\n",
       "       'Q15-AIRTEL', 'Q16-AIRTEL', 'Q17-AIRTEL', 'Q18', 'Q19'],\n",
       "      dtype='object')"
      ]
     },
     "execution_count": 6,
     "metadata": {},
     "output_type": "execute_result"
    }
   ],
   "source": [
    "data.columns"
   ]
  },
  {
   "cell_type": "code",
   "execution_count": 7,
   "metadata": {},
   "outputs": [
    {
     "data": {
      "text/plain": [
       "(50, 28)"
      ]
     },
     "execution_count": 7,
     "metadata": {},
     "output_type": "execute_result"
    }
   ],
   "source": [
    "data.shape"
   ]
  },
  {
   "cell_type": "code",
   "execution_count": 8,
   "metadata": {},
   "outputs": [
    {
     "data": {
      "text/plain": [
       "RangeIndex(start=0, stop=50, step=1)"
      ]
     },
     "execution_count": 8,
     "metadata": {},
     "output_type": "execute_result"
    }
   ],
   "source": [
    "data.index"
   ]
  },
  {
   "cell_type": "code",
   "execution_count": 9,
   "metadata": {},
   "outputs": [
    {
     "name": "stdout",
     "output_type": "stream",
     "text": [
      "<class 'pandas.core.frame.DataFrame'>\n",
      "RangeIndex: 50 entries, 0 to 49\n",
      "Data columns (total 28 columns):\n",
      " #   Column      Non-Null Count  Dtype  \n",
      "---  ------      --------------  -----  \n",
      " 0   Timestamp   50 non-null     object \n",
      " 1   Q1          50 non-null     object \n",
      " 2   Q2          50 non-null     object \n",
      " 3   Q3          50 non-null     object \n",
      " 4   Q4          50 non-null     object \n",
      " 5   Q5          50 non-null     object \n",
      " 6   Q6          50 non-null     object \n",
      " 7   Q7          50 non-null     object \n",
      " 8   Q8          50 non-null     object \n",
      " 9   Q9          50 non-null     object \n",
      " 10  Q10         50 non-null     int64  \n",
      " 11  Q11         50 non-null     object \n",
      " 12  Q12         50 non-null     object \n",
      " 13  Q13-VI      10 non-null     object \n",
      " 14  Q14-VI      10 non-null     object \n",
      " 15  Q15-VI      10 non-null     object \n",
      " 16  Q16-VI      10 non-null     float64\n",
      " 17  Q13-JIO     18 non-null     object \n",
      " 18  Q14-JIO     18 non-null     object \n",
      " 19  Q15-JIO     18 non-null     object \n",
      " 20  Q16-JIO     18 non-null     float64\n",
      " 21  Q13-AIRTEL  22 non-null     object \n",
      " 22  Q14-AIRTEL  22 non-null     object \n",
      " 23  Q15-AIRTEL  22 non-null     object \n",
      " 24  Q16-AIRTEL  22 non-null     object \n",
      " 25  Q17-AIRTEL  22 non-null     float64\n",
      " 26  Q18         50 non-null     int64  \n",
      " 27  Q19         50 non-null     object \n",
      "dtypes: float64(3), int64(2), object(23)\n",
      "memory usage: 11.1+ KB\n"
     ]
    }
   ],
   "source": [
    "data.info()"
   ]
  },
  {
   "cell_type": "code",
   "execution_count": 10,
   "metadata": {},
   "outputs": [
    {
     "data": {
      "text/plain": [
       "Timestamp      object\n",
       "Q1             object\n",
       "Q2             object\n",
       "Q3             object\n",
       "Q4             object\n",
       "Q5             object\n",
       "Q6             object\n",
       "Q7             object\n",
       "Q8             object\n",
       "Q9             object\n",
       "Q10             int64\n",
       "Q11            object\n",
       "Q12            object\n",
       "Q13-VI         object\n",
       "Q14-VI         object\n",
       "Q15-VI         object\n",
       "Q16-VI        float64\n",
       "Q13-JIO        object\n",
       "Q14-JIO        object\n",
       "Q15-JIO        object\n",
       "Q16-JIO       float64\n",
       "Q13-AIRTEL     object\n",
       "Q14-AIRTEL     object\n",
       "Q15-AIRTEL     object\n",
       "Q16-AIRTEL     object\n",
       "Q17-AIRTEL    float64\n",
       "Q18             int64\n",
       "Q19            object\n",
       "dtype: object"
      ]
     },
     "execution_count": 10,
     "metadata": {},
     "output_type": "execute_result"
    }
   ],
   "source": [
    "data.dtypes"
   ]
  },
  {
   "cell_type": "code",
   "execution_count": null,
   "metadata": {},
   "outputs": [],
   "source": []
  },
  {
   "cell_type": "code",
   "execution_count": 11,
   "metadata": {},
   "outputs": [],
   "source": [
    "data[\"Timestamp\"]=pd.to_datetime(data[\"Timestamp\"])"
   ]
  },
  {
   "cell_type": "code",
   "execution_count": 12,
   "metadata": {},
   "outputs": [
    {
     "name": "stdout",
     "output_type": "stream",
     "text": [
      "Number of numerical variables:  6\n",
      "----------------------------------------------------------------------------------------------------\n",
      "Numerical Variables Column:  ['Timestamp', 'Q10', 'Q16-VI', 'Q16-JIO', 'Q17-AIRTEL', 'Q18']\n"
     ]
    }
   ],
   "source": [
    "numerical_features = [feature for feature in data.columns if data[feature].dtypes != 'O']\n",
    "print('Number of numerical variables: ', len(numerical_features))\n",
    "print('-'*100)\n",
    "print('Numerical Variables Column: ',numerical_features)"
   ]
  },
  {
   "cell_type": "code",
   "execution_count": 13,
   "metadata": {},
   "outputs": [
    {
     "name": "stdout",
     "output_type": "stream",
     "text": [
      "Number of categorical variables:  22\n",
      "--------------------------------------------------------------------------------\n",
      "Categorical variables column name: ['Q1', 'Q2', 'Q3', 'Q4', 'Q5', 'Q6', 'Q7', 'Q8', 'Q9', 'Q11', 'Q12', 'Q13-VI', 'Q14-VI', 'Q15-VI', 'Q13-JIO', 'Q14-JIO', 'Q15-JIO', 'Q13-AIRTEL', 'Q14-AIRTEL', 'Q15-AIRTEL', 'Q16-AIRTEL', 'Q19']\n"
     ]
    }
   ],
   "source": [
    "cat_features = [feature for feature in data.columns if data[feature].dtypes == 'O']\n",
    "print('Number of categorical variables: ', len(cat_features))\n",
    "print('-'*80)\n",
    "print('Categorical variables column name:',cat_features)"
   ]
  },
  {
   "cell_type": "code",
   "execution_count": 14,
   "metadata": {},
   "outputs": [
    {
     "data": {
      "text/html": [
       "<div>\n",
       "<style scoped>\n",
       "    .dataframe tbody tr th:only-of-type {\n",
       "        vertical-align: middle;\n",
       "    }\n",
       "\n",
       "    .dataframe tbody tr th {\n",
       "        vertical-align: top;\n",
       "    }\n",
       "\n",
       "    .dataframe thead th {\n",
       "        text-align: right;\n",
       "    }\n",
       "</style>\n",
       "<table border=\"1\" class=\"dataframe\">\n",
       "  <thead>\n",
       "    <tr style=\"text-align: right;\">\n",
       "      <th></th>\n",
       "      <th>Timestamp</th>\n",
       "      <th>Q1</th>\n",
       "      <th>Q2</th>\n",
       "      <th>Q3</th>\n",
       "      <th>Q4</th>\n",
       "      <th>Q5</th>\n",
       "      <th>Q6</th>\n",
       "      <th>Q7</th>\n",
       "      <th>Q8</th>\n",
       "      <th>Q9</th>\n",
       "      <th>...</th>\n",
       "      <th>Q14-JIO</th>\n",
       "      <th>Q15-JIO</th>\n",
       "      <th>Q16-JIO</th>\n",
       "      <th>Q13-AIRTEL</th>\n",
       "      <th>Q14-AIRTEL</th>\n",
       "      <th>Q15-AIRTEL</th>\n",
       "      <th>Q16-AIRTEL</th>\n",
       "      <th>Q17-AIRTEL</th>\n",
       "      <th>Q18</th>\n",
       "      <th>Q19</th>\n",
       "    </tr>\n",
       "  </thead>\n",
       "  <tbody>\n",
       "    <tr>\n",
       "      <th>Unique</th>\n",
       "      <td>49</td>\n",
       "      <td>4</td>\n",
       "      <td>3</td>\n",
       "      <td>2</td>\n",
       "      <td>2</td>\n",
       "      <td>2</td>\n",
       "      <td>2</td>\n",
       "      <td>4</td>\n",
       "      <td>4</td>\n",
       "      <td>34</td>\n",
       "      <td>...</td>\n",
       "      <td>2</td>\n",
       "      <td>3</td>\n",
       "      <td>6</td>\n",
       "      <td>3</td>\n",
       "      <td>2</td>\n",
       "      <td>3</td>\n",
       "      <td>3</td>\n",
       "      <td>6</td>\n",
       "      <td>8</td>\n",
       "      <td>2</td>\n",
       "    </tr>\n",
       "  </tbody>\n",
       "</table>\n",
       "<p>1 rows × 28 columns</p>\n",
       "</div>"
      ],
      "text/plain": [
       "        Timestamp  Q1  Q2  Q3  Q4  Q5  Q6  Q7  Q8  Q9  ...  Q14-JIO  Q15-JIO  \\\n",
       "Unique         49   4   3   2   2   2   2   4   4  34  ...        2        3   \n",
       "\n",
       "        Q16-JIO  Q13-AIRTEL  Q14-AIRTEL  Q15-AIRTEL  Q16-AIRTEL  Q17-AIRTEL  \\\n",
       "Unique        6           3           2           3           3           6   \n",
       "\n",
       "        Q18  Q19  \n",
       "Unique    8    2  \n",
       "\n",
       "[1 rows x 28 columns]"
      ]
     },
     "execution_count": 14,
     "metadata": {},
     "output_type": "execute_result"
    }
   ],
   "source": [
    "dict={}\n",
    "for i in data.columns:\n",
    "    dict[i]=data[i].value_counts().shape[0]\n",
    "    \n",
    "pd.DataFrame(dict,index=['Unique'])"
   ]
  },
  {
   "cell_type": "code",
   "execution_count": 15,
   "metadata": {},
   "outputs": [
    {
     "data": {
      "text/plain": [
       "Timestamp      0\n",
       "Q1             0\n",
       "Q2             0\n",
       "Q3             0\n",
       "Q4             0\n",
       "Q5             0\n",
       "Q6             0\n",
       "Q7             0\n",
       "Q8             0\n",
       "Q9             0\n",
       "Q10            0\n",
       "Q11            0\n",
       "Q12            0\n",
       "Q13-VI        40\n",
       "Q14-VI        40\n",
       "Q15-VI        40\n",
       "Q16-VI        40\n",
       "Q13-JIO       32\n",
       "Q14-JIO       32\n",
       "Q15-JIO       32\n",
       "Q16-JIO       32\n",
       "Q13-AIRTEL    28\n",
       "Q14-AIRTEL    28\n",
       "Q15-AIRTEL    28\n",
       "Q16-AIRTEL    28\n",
       "Q17-AIRTEL    28\n",
       "Q18            0\n",
       "Q19            0\n",
       "dtype: int64"
      ]
     },
     "execution_count": 15,
     "metadata": {},
     "output_type": "execute_result"
    }
   ],
   "source": [
    "data.isnull().sum()"
   ]
  },
  {
   "cell_type": "code",
   "execution_count": 16,
   "metadata": {},
   "outputs": [
    {
     "data": {
      "text/html": [
       "<div>\n",
       "<style scoped>\n",
       "    .dataframe tbody tr th:only-of-type {\n",
       "        vertical-align: middle;\n",
       "    }\n",
       "\n",
       "    .dataframe tbody tr th {\n",
       "        vertical-align: top;\n",
       "    }\n",
       "\n",
       "    .dataframe thead th {\n",
       "        text-align: right;\n",
       "    }\n",
       "</style>\n",
       "<table border=\"1\" class=\"dataframe\">\n",
       "  <thead>\n",
       "    <tr style=\"text-align: right;\">\n",
       "      <th></th>\n",
       "      <th>Q10</th>\n",
       "      <th>Q16-VI</th>\n",
       "      <th>Q16-JIO</th>\n",
       "      <th>Q17-AIRTEL</th>\n",
       "      <th>Q18</th>\n",
       "    </tr>\n",
       "  </thead>\n",
       "  <tbody>\n",
       "    <tr>\n",
       "      <th>count</th>\n",
       "      <td>50.000000</td>\n",
       "      <td>10.00000</td>\n",
       "      <td>18.000000</td>\n",
       "      <td>22.000000</td>\n",
       "      <td>50.00000</td>\n",
       "    </tr>\n",
       "    <tr>\n",
       "      <th>mean</th>\n",
       "      <td>6.960000</td>\n",
       "      <td>6.50000</td>\n",
       "      <td>8.055556</td>\n",
       "      <td>8.000000</td>\n",
       "      <td>6.94000</td>\n",
       "    </tr>\n",
       "    <tr>\n",
       "      <th>std</th>\n",
       "      <td>2.415596</td>\n",
       "      <td>1.95789</td>\n",
       "      <td>1.392088</td>\n",
       "      <td>1.632993</td>\n",
       "      <td>1.68317</td>\n",
       "    </tr>\n",
       "    <tr>\n",
       "      <th>min</th>\n",
       "      <td>1.000000</td>\n",
       "      <td>3.00000</td>\n",
       "      <td>5.000000</td>\n",
       "      <td>2.000000</td>\n",
       "      <td>3.00000</td>\n",
       "    </tr>\n",
       "    <tr>\n",
       "      <th>25%</th>\n",
       "      <td>5.250000</td>\n",
       "      <td>5.00000</td>\n",
       "      <td>7.000000</td>\n",
       "      <td>8.000000</td>\n",
       "      <td>6.00000</td>\n",
       "    </tr>\n",
       "    <tr>\n",
       "      <th>50%</th>\n",
       "      <td>8.000000</td>\n",
       "      <td>7.00000</td>\n",
       "      <td>8.000000</td>\n",
       "      <td>8.000000</td>\n",
       "      <td>7.00000</td>\n",
       "    </tr>\n",
       "    <tr>\n",
       "      <th>75%</th>\n",
       "      <td>9.000000</td>\n",
       "      <td>7.75000</td>\n",
       "      <td>9.000000</td>\n",
       "      <td>9.000000</td>\n",
       "      <td>8.00000</td>\n",
       "    </tr>\n",
       "    <tr>\n",
       "      <th>max</th>\n",
       "      <td>10.000000</td>\n",
       "      <td>9.00000</td>\n",
       "      <td>10.000000</td>\n",
       "      <td>10.000000</td>\n",
       "      <td>10.00000</td>\n",
       "    </tr>\n",
       "  </tbody>\n",
       "</table>\n",
       "</div>"
      ],
      "text/plain": [
       "             Q10    Q16-VI    Q16-JIO  Q17-AIRTEL       Q18\n",
       "count  50.000000  10.00000  18.000000   22.000000  50.00000\n",
       "mean    6.960000   6.50000   8.055556    8.000000   6.94000\n",
       "std     2.415596   1.95789   1.392088    1.632993   1.68317\n",
       "min     1.000000   3.00000   5.000000    2.000000   3.00000\n",
       "25%     5.250000   5.00000   7.000000    8.000000   6.00000\n",
       "50%     8.000000   7.00000   8.000000    8.000000   7.00000\n",
       "75%     9.000000   7.75000   9.000000    9.000000   8.00000\n",
       "max    10.000000   9.00000  10.000000   10.000000  10.00000"
      ]
     },
     "execution_count": 16,
     "metadata": {},
     "output_type": "execute_result"
    }
   ],
   "source": [
    "data.describe()"
   ]
  },
  {
   "cell_type": "code",
   "execution_count": null,
   "metadata": {},
   "outputs": [],
   "source": []
  },
  {
   "cell_type": "code",
   "execution_count": null,
   "metadata": {},
   "outputs": [],
   "source": []
  },
  {
   "cell_type": "code",
   "execution_count": 17,
   "metadata": {},
   "outputs": [],
   "source": [
    "data[\"Year\"]=data[\"Timestamp\"].dt.year\n",
    "data[\"Month\"]=pd.to_datetime(data[\"Timestamp\"]).dt.month_name()\n",
    "data[\"Day\"]=pd.to_datetime(data[\"Timestamp\"]).dt.day_name()"
   ]
  },
  {
   "cell_type": "code",
   "execution_count": null,
   "metadata": {},
   "outputs": [],
   "source": []
  },
  {
   "cell_type": "code",
   "execution_count": null,
   "metadata": {},
   "outputs": [],
   "source": []
  },
  {
   "cell_type": "code",
   "execution_count": null,
   "metadata": {},
   "outputs": [],
   "source": []
  },
  {
   "cell_type": "markdown",
   "metadata": {},
   "source": [
    "# WHICH MONTH THIS SURVEY HAPPEN THE MOST"
   ]
  },
  {
   "cell_type": "code",
   "execution_count": 18,
   "metadata": {},
   "outputs": [
    {
     "data": {
      "text/plain": [
       "(array([0, 1]), [Text(0, 0, 'October'), Text(1, 0, 'November')])"
      ]
     },
     "execution_count": 18,
     "metadata": {},
     "output_type": "execute_result"
    },
    {
     "data": {
      "image/png": "[encoded data removed]",
      "text/plain": [
       "<Figure size 432x288 with 1 Axes>"
      ]
     },
     "metadata": {
      "needs_background": "light"
     },
     "output_type": "display_data"
    }
   ],
   "source": [
    "fig=sns.countplot(x='Month',data=data,palette='Set1')\n",
    "\n",
    "\n",
    "plt.xticks(rotation=45) "
   ]
  },
  {
   "cell_type": "code",
   "execution_count": 19,
   "metadata": {},
   "outputs": [],
   "source": [
    "def percent_value_counts(data, feature):\n",
    "    \"\"\"This function takes in a dataframe and a column and finds the percentage of the value_counts\"\"\"\n",
    "    percent = pd.DataFrame(round(data.loc[:,feature].value_counts(dropna=False, normalize=True)*100,2))\n",
    "    ## creating a df with th\n",
    "    total = pd.DataFrame(data.loc[:,feature].value_counts(dropna=False))\n",
    "    ## concating percent and total dataframe\n",
    "\n",
    "    total.columns = [\"Total\"]\n",
    "    percent.columns = ['Percent']\n",
    "    return pd.concat([total, percent], axis = 1)"
   ]
  },
  {
   "cell_type": "code",
   "execution_count": 20,
   "metadata": {},
   "outputs": [
    {
     "data": {
      "text/html": [
       "<style type=\"text/css\">\n",
       "#T_4823a_row0_col0, #T_4823a_row0_col1 {\n",
       "  background-color: #ff0000;\n",
       "  color: #f1f1f1;\n",
       "}\n",
       "#T_4823a_row1_col0, #T_4823a_row1_col1 {\n",
       "  background-color: #ff7e7e;\n",
       "  color: #f1f1f1;\n",
       "}\n",
       "#T_4823a_row2_col0, #T_4823a_row2_col1 {\n",
       "  background-color: #4c4cff;\n",
       "  color: #f1f1f1;\n",
       "}\n",
       "#T_4823a_row3_col0, #T_4823a_row3_col1 {\n",
       "  background-color: #0000ff;\n",
       "  color: #f1f1f1;\n",
       "}\n",
       "</style>\n",
       "<table id=\"T_4823a_\">\n",
       "  <thead>\n",
       "    <tr>\n",
       "      <th class=\"blank level0\" >&nbsp;</th>\n",
       "      <th class=\"col_heading level0 col0\" >Total</th>\n",
       "      <th class=\"col_heading level0 col1\" >Percent</th>\n",
       "    </tr>\n",
       "  </thead>\n",
       "  <tbody>\n",
       "    <tr>\n",
       "      <th id=\"T_4823a_level0_row0\" class=\"row_heading level0 row0\" >West</th>\n",
       "      <td id=\"T_4823a_row0_col0\" class=\"data row0 col0\" >23</td>\n",
       "      <td id=\"T_4823a_row0_col1\" class=\"data row0 col1\" >46.000000</td>\n",
       "    </tr>\n",
       "    <tr>\n",
       "      <th id=\"T_4823a_level0_row1\" class=\"row_heading level0 row1\" >North</th>\n",
       "      <td id=\"T_4823a_row1_col0\" class=\"data row1 col0\" >18</td>\n",
       "      <td id=\"T_4823a_row1_col1\" class=\"data row1 col1\" >36.000000</td>\n",
       "    </tr>\n",
       "    <tr>\n",
       "      <th id=\"T_4823a_level0_row2\" class=\"row_heading level0 row2\" >South</th>\n",
       "      <td id=\"T_4823a_row2_col0\" class=\"data row2 col0\" >6</td>\n",
       "      <td id=\"T_4823a_row2_col1\" class=\"data row2 col1\" >12.000000</td>\n",
       "    </tr>\n",
       "    <tr>\n",
       "      <th id=\"T_4823a_level0_row3\" class=\"row_heading level0 row3\" >East</th>\n",
       "      <td id=\"T_4823a_row3_col0\" class=\"data row3 col0\" >3</td>\n",
       "      <td id=\"T_4823a_row3_col1\" class=\"data row3 col1\" >6.000000</td>\n",
       "    </tr>\n",
       "  </tbody>\n",
       "</table>\n"
      ],
      "text/plain": [
       "<pandas.io.formats.style.Styler at 0x2f8cc6d7b48>"
      ]
     },
     "execution_count": 20,
     "metadata": {},
     "output_type": "execute_result"
    }
   ],
   "source": [
    "percent_value_counts(data, 'Q1').style.background_gradient(cmap='bwr')"
   ]
  },
  {
   "cell_type": "markdown",
   "metadata": {},
   "source": [
    "# WHICH REGION OF INDIA ARE YOU FROM?"
   ]
  },
  {
   "cell_type": "code",
   "execution_count": 21,
   "metadata": {},
   "outputs": [
    {
     "data": {
      "image/png": "[encoded data removed]",
      "text/plain": [
       "<Figure size 432x288 with 1 Axes>"
      ]
     },
     "metadata": {},
     "output_type": "display_data"
    }
   ],
   "source": [
    "import matplotlib.pyplot as plt\n",
    "\n",
    "# slices will be plotted counter-clockwise:\n",
    "labels = ['North', 'East', 'West', 'South']\n",
    "sizes = [36,6,46,12]\n",
    "explode = [0.1, 0, 0.1, 0]\n",
    "plt.pie(sizes, explode=explode, labels=labels, autopct=\"%1.2f%%\",\n",
    "        colors=[\"red\",\"green\",\"purple\",\"yellow\"],\n",
    "        shadow=True, startangle=90,counterclock=True)\n",
    "\n",
    "plt.show()"
   ]
  },
  {
   "cell_type": "code",
   "execution_count": null,
   "metadata": {},
   "outputs": [],
   "source": []
  },
  {
   "cell_type": "code",
   "execution_count": 22,
   "metadata": {},
   "outputs": [
    {
     "data": {
      "text/html": [
       "<style type=\"text/css\">\n",
       "#T_eaccd_row0_col0, #T_eaccd_row0_col1 {\n",
       "  background-color: #ff0000;\n",
       "  color: #f1f1f1;\n",
       "}\n",
       "#T_eaccd_row1_col0, #T_eaccd_row1_col1 {\n",
       "  background-color: #6060ff;\n",
       "  color: #f1f1f1;\n",
       "}\n",
       "#T_eaccd_row2_col0, #T_eaccd_row2_col1 {\n",
       "  background-color: #0000ff;\n",
       "  color: #f1f1f1;\n",
       "}\n",
       "</style>\n",
       "<table id=\"T_eaccd_\">\n",
       "  <thead>\n",
       "    <tr>\n",
       "      <th class=\"blank level0\" >&nbsp;</th>\n",
       "      <th class=\"col_heading level0 col0\" >Total</th>\n",
       "      <th class=\"col_heading level0 col1\" >Percent</th>\n",
       "    </tr>\n",
       "  </thead>\n",
       "  <tbody>\n",
       "    <tr>\n",
       "      <th id=\"T_eaccd_level0_row0\" class=\"row_heading level0 row0\" >Urban</th>\n",
       "      <td id=\"T_eaccd_row0_col0\" class=\"data row0 col0\" >36</td>\n",
       "      <td id=\"T_eaccd_row0_col1\" class=\"data row0 col1\" >72.000000</td>\n",
       "    </tr>\n",
       "    <tr>\n",
       "      <th id=\"T_eaccd_level0_row1\" class=\"row_heading level0 row1\" >Suburban</th>\n",
       "      <td id=\"T_eaccd_row1_col0\" class=\"data row1 col0\" >10</td>\n",
       "      <td id=\"T_eaccd_row1_col1\" class=\"data row1 col1\" >20.000000</td>\n",
       "    </tr>\n",
       "    <tr>\n",
       "      <th id=\"T_eaccd_level0_row2\" class=\"row_heading level0 row2\" >Rural</th>\n",
       "      <td id=\"T_eaccd_row2_col0\" class=\"data row2 col0\" >4</td>\n",
       "      <td id=\"T_eaccd_row2_col1\" class=\"data row2 col1\" >8.000000</td>\n",
       "    </tr>\n",
       "  </tbody>\n",
       "</table>\n"
      ],
      "text/plain": [
       "<pandas.io.formats.style.Styler at 0x2f8ced23948>"
      ]
     },
     "execution_count": 22,
     "metadata": {},
     "output_type": "execute_result"
    }
   ],
   "source": [
    "percent_value_counts(data, 'Q2').style.background_gradient(cmap='bwr')\n"
   ]
  },
  {
   "cell_type": "markdown",
   "metadata": {},
   "source": [
    "# WHICH TYPE OF LOCATION DO YOU LIVE IN?"
   ]
  },
  {
   "cell_type": "code",
   "execution_count": 23,
   "metadata": {},
   "outputs": [
    {
     "data": {
      "image/png": "[encoded data removed]",
      "text/plain": [
       "<Figure size 432x288 with 1 Axes>"
      ]
     },
     "metadata": {},
     "output_type": "display_data"
    }
   ],
   "source": [
    "import matplotlib.pyplot as plt\n",
    "\n",
    "# slices will be plotted counter-clockwise:\n",
    "labels = ['Urban','Suburban','Rural']\n",
    "sizes = [72,20,8]\n",
    "explode = [0.1, 0, 0.1]\n",
    "plt.pie(sizes, explode=explode, labels=labels, autopct=\"%1.2f%%\",\n",
    "        colors=[\"red\",\"green\",\"purple\",\"yellow\"],\n",
    "        shadow=True, startangle=90,counterclock=True)\n",
    "\n",
    "plt.show()"
   ]
  },
  {
   "cell_type": "code",
   "execution_count": null,
   "metadata": {},
   "outputs": [],
   "source": []
  },
  {
   "cell_type": "code",
   "execution_count": 24,
   "metadata": {},
   "outputs": [
    {
     "data": {
      "text/html": [
       "<style type=\"text/css\">\n",
       "#T_78e47_row0_col0, #T_78e47_row0_col1 {\n",
       "  background-color: #ff0000;\n",
       "  color: #f1f1f1;\n",
       "}\n",
       "#T_78e47_row1_col0, #T_78e47_row1_col1 {\n",
       "  background-color: #0000ff;\n",
       "  color: #f1f1f1;\n",
       "}\n",
       "</style>\n",
       "<table id=\"T_78e47_\">\n",
       "  <thead>\n",
       "    <tr>\n",
       "      <th class=\"blank level0\" >&nbsp;</th>\n",
       "      <th class=\"col_heading level0 col0\" >Total</th>\n",
       "      <th class=\"col_heading level0 col1\" >Percent</th>\n",
       "    </tr>\n",
       "  </thead>\n",
       "  <tbody>\n",
       "    <tr>\n",
       "      <th id=\"T_78e47_level0_row0\" class=\"row_heading level0 row0\" >4G</th>\n",
       "      <td id=\"T_78e47_row0_col0\" class=\"data row0 col0\" >48</td>\n",
       "      <td id=\"T_78e47_row0_col1\" class=\"data row0 col1\" >96.000000</td>\n",
       "    </tr>\n",
       "    <tr>\n",
       "      <th id=\"T_78e47_level0_row1\" class=\"row_heading level0 row1\" >3G</th>\n",
       "      <td id=\"T_78e47_row1_col0\" class=\"data row1 col0\" >2</td>\n",
       "      <td id=\"T_78e47_row1_col1\" class=\"data row1 col1\" >4.000000</td>\n",
       "    </tr>\n",
       "  </tbody>\n",
       "</table>\n"
      ],
      "text/plain": [
       "<pandas.io.formats.style.Styler at 0x2f8ced93048>"
      ]
     },
     "execution_count": 24,
     "metadata": {},
     "output_type": "execute_result"
    }
   ],
   "source": [
    "percent_value_counts(data, 'Q3').style.background_gradient(cmap='bwr')\n"
   ]
  },
  {
   "cell_type": "code",
   "execution_count": 25,
   "metadata": {},
   "outputs": [
    {
     "name": "stdout",
     "output_type": "stream",
     "text": [
      "Object `USING` not found.\n"
     ]
    }
   ],
   "source": [
    "WHICH TYPE OF NETWORK ARE YOU USING?"
   ]
  },
  {
   "cell_type": "code",
   "execution_count": null,
   "metadata": {},
   "outputs": [],
   "source": [
    "WHICH TYPE OF NETWORK ARE YOU USING"
   ]
  },
  {
   "cell_type": "markdown",
   "metadata": {},
   "source": [
    "# WHICH TYPE OF NETWORK ARE YOU USING?"
   ]
  },
  {
   "cell_type": "code",
   "execution_count": 26,
   "metadata": {},
   "outputs": [
    {
     "data": {
      "image/png": "[encoded data removed]",
      "text/plain": [
       "<Figure size 432x288 with 1 Axes>"
      ]
     },
     "metadata": {},
     "output_type": "display_data"
    }
   ],
   "source": [
    "import matplotlib.pyplot as plt\n",
    "\n",
    "# slices will be plotted counter-clockwise:\n",
    "labels = ['4G','3G']\n",
    "sizes = [96,4]\n",
    "explode = [0.1, 0]\n",
    "plt.pie(sizes, explode=explode, labels=labels, autopct=\"%1.2f%%\",\n",
    "        colors=[\"red\",\"green\",\"purple\",\"yellow\"],\n",
    "        shadow=True, startangle=90,counterclock=True)\n",
    "\n",
    "plt.show()"
   ]
  },
  {
   "cell_type": "code",
   "execution_count": null,
   "metadata": {},
   "outputs": [],
   "source": []
  },
  {
   "cell_type": "code",
   "execution_count": 27,
   "metadata": {},
   "outputs": [
    {
     "data": {
      "text/html": [
       "<style type=\"text/css\">\n",
       "#T_66c9f_row0_col0, #T_66c9f_row0_col1 {\n",
       "  background-color: #ff0000;\n",
       "  color: #f1f1f1;\n",
       "}\n",
       "#T_66c9f_row1_col0, #T_66c9f_row1_col1 {\n",
       "  background-color: #0000ff;\n",
       "  color: #f1f1f1;\n",
       "}\n",
       "</style>\n",
       "<table id=\"T_66c9f_\">\n",
       "  <thead>\n",
       "    <tr>\n",
       "      <th class=\"blank level0\" >&nbsp;</th>\n",
       "      <th class=\"col_heading level0 col0\" >Total</th>\n",
       "      <th class=\"col_heading level0 col1\" >Percent</th>\n",
       "    </tr>\n",
       "  </thead>\n",
       "  <tbody>\n",
       "    <tr>\n",
       "      <th id=\"T_66c9f_level0_row0\" class=\"row_heading level0 row0\" >Yes</th>\n",
       "      <td id=\"T_66c9f_row0_col0\" class=\"data row0 col0\" >37</td>\n",
       "      <td id=\"T_66c9f_row0_col1\" class=\"data row0 col1\" >74.000000</td>\n",
       "    </tr>\n",
       "    <tr>\n",
       "      <th id=\"T_66c9f_level0_row1\" class=\"row_heading level0 row1\" >No</th>\n",
       "      <td id=\"T_66c9f_row1_col0\" class=\"data row1 col0\" >13</td>\n",
       "      <td id=\"T_66c9f_row1_col1\" class=\"data row1 col1\" >26.000000</td>\n",
       "    </tr>\n",
       "  </tbody>\n",
       "</table>\n"
      ],
      "text/plain": [
       "<pandas.io.formats.style.Styler at 0x2f8cc698d48>"
      ]
     },
     "execution_count": 27,
     "metadata": {},
     "output_type": "execute_result"
    }
   ],
   "source": [
    "percent_value_counts(data, 'Q5').style.background_gradient(cmap='bwr')"
   ]
  },
  {
   "cell_type": "markdown",
   "metadata": {},
   "source": [
    "# ARE ONE ON ONE CALL SMOOTHER EXPERIENCE?"
   ]
  },
  {
   "cell_type": "code",
   "execution_count": 31,
   "metadata": {},
   "outputs": [
    {
     "data": {
      "text/plain": [
       "(array([0, 1]), [Text(0, 0, 'Yes'), Text(1, 0, 'No')])"
      ]
     },
     "execution_count": 31,
     "metadata": {},
     "output_type": "execute_result"
    },
    {
     "data": {
      "image/png": "[encoded data removed]",
      "text/plain": [
       "<Figure size 432x288 with 1 Axes>"
      ]
     },
     "metadata": {
      "needs_background": "light"
     },
     "output_type": "display_data"
    }
   ],
   "source": [
    "fig=sns.countplot(x='Q5',data=data,palette='Set1')\n",
    "\n",
    "\n",
    "plt.xticks(rotation=0) "
   ]
  },
  {
   "cell_type": "markdown",
   "metadata": {},
   "source": [
    "# TIME TAKEN TO DOWNLOAD A SONG OF 4 MIN?"
   ]
  },
  {
   "cell_type": "code",
   "execution_count": 32,
   "metadata": {},
   "outputs": [
    {
     "data": {
      "text/html": [
       "<style type=\"text/css\">\n",
       "#T_1b9fd_row0_col0, #T_1b9fd_row0_col1 {\n",
       "  background-color: #ff0000;\n",
       "  color: #f1f1f1;\n",
       "}\n",
       "#T_1b9fd_row1_col0, #T_1b9fd_row1_col1 {\n",
       "  background-color: #ececff;\n",
       "  color: #000000;\n",
       "}\n",
       "#T_1b9fd_row2_col0, #T_1b9fd_row2_col1 {\n",
       "  background-color: #1212ff;\n",
       "  color: #f1f1f1;\n",
       "}\n",
       "#T_1b9fd_row3_col0, #T_1b9fd_row3_col1 {\n",
       "  background-color: #0000ff;\n",
       "  color: #f1f1f1;\n",
       "}\n",
       "</style>\n",
       "<table id=\"T_1b9fd_\">\n",
       "  <thead>\n",
       "    <tr>\n",
       "      <th class=\"blank level0\" >&nbsp;</th>\n",
       "      <th class=\"col_heading level0 col0\" >Total</th>\n",
       "      <th class=\"col_heading level0 col1\" >Percent</th>\n",
       "    </tr>\n",
       "  </thead>\n",
       "  <tbody>\n",
       "    <tr>\n",
       "      <th id=\"T_1b9fd_level0_row0\" class=\"row_heading level0 row0\" >Less than 1 min</th>\n",
       "      <td id=\"T_1b9fd_row0_col0\" class=\"data row0 col0\" >30</td>\n",
       "      <td id=\"T_1b9fd_row0_col1\" class=\"data row0 col1\" >60.000000</td>\n",
       "    </tr>\n",
       "    <tr>\n",
       "      <th id=\"T_1b9fd_level0_row1\" class=\"row_heading level0 row1\" >1 min to 2 mins</th>\n",
       "      <td id=\"T_1b9fd_row1_col0\" class=\"data row1 col0\" >15</td>\n",
       "      <td id=\"T_1b9fd_row1_col1\" class=\"data row1 col1\" >30.000000</td>\n",
       "    </tr>\n",
       "    <tr>\n",
       "      <th id=\"T_1b9fd_level0_row2\" class=\"row_heading level0 row2\" >5 mins to 10 mins</th>\n",
       "      <td id=\"T_1b9fd_row2_col0\" class=\"data row2 col0\" >3</td>\n",
       "      <td id=\"T_1b9fd_row2_col1\" class=\"data row2 col1\" >6.000000</td>\n",
       "    </tr>\n",
       "    <tr>\n",
       "      <th id=\"T_1b9fd_level0_row3\" class=\"row_heading level0 row3\" >2 mins to 5 mins</th>\n",
       "      <td id=\"T_1b9fd_row3_col0\" class=\"data row3 col0\" >2</td>\n",
       "      <td id=\"T_1b9fd_row3_col1\" class=\"data row3 col1\" >4.000000</td>\n",
       "    </tr>\n",
       "  </tbody>\n",
       "</table>\n"
      ],
      "text/plain": [
       "<pandas.io.formats.style.Styler at 0x2f8cedebc88>"
      ]
     },
     "execution_count": 32,
     "metadata": {},
     "output_type": "execute_result"
    }
   ],
   "source": [
    "percent_value_counts(data, 'Q7').style.background_gradient(cmap='bwr')"
   ]
  },
  {
   "cell_type": "markdown",
   "metadata": {},
   "source": []
  },
  {
   "cell_type": "code",
   "execution_count": 33,
   "metadata": {},
   "outputs": [
    {
     "data": {
      "image/png": "[encoded data removed]",
      "text/plain": [
       "<Figure size 432x288 with 1 Axes>"
      ]
     },
     "metadata": {},
     "output_type": "display_data"
    }
   ],
   "source": [
    "import matplotlib.pyplot as plt\n",
    "\n",
    "# slices will be plotted counter-clockwise:\n",
    "labels = ['<1min','1min-2min','2min-5min','5min-10min']\n",
    "sizes = [60,30,4,6]\n",
    "explode = [0.1, 0,0.1,0.2]\n",
    "plt.pie(sizes, explode=explode, labels=labels, autopct=\"%1.2f%%\",\n",
    "        colors=[\"red\",\"green\",\"purple\",\"yellow\"],\n",
    "        shadow=True, startangle=90,counterclock=True)\n",
    "\n",
    "plt.show()"
   ]
  },
  {
   "cell_type": "markdown",
   "metadata": {},
   "source": [
    "# HOW MUCH DATA DO YOU USE EACH MONTH?"
   ]
  },
  {
   "cell_type": "code",
   "execution_count": 34,
   "metadata": {},
   "outputs": [
    {
     "data": {
      "text/html": [
       "<style type=\"text/css\">\n",
       "#T_e0076_row0_col0, #T_e0076_row0_col1 {\n",
       "  background-color: #ff0000;\n",
       "  color: #f1f1f1;\n",
       "}\n",
       "#T_e0076_row1_col0, #T_e0076_row1_col1 {\n",
       "  background-color: #ff1c1c;\n",
       "  color: #f1f1f1;\n",
       "}\n",
       "#T_e0076_row2_col0, #T_e0076_row2_col1 {\n",
       "  background-color: #5454ff;\n",
       "  color: #f1f1f1;\n",
       "}\n",
       "#T_e0076_row3_col0, #T_e0076_row3_col1 {\n",
       "  background-color: #0000ff;\n",
       "  color: #f1f1f1;\n",
       "}\n",
       "</style>\n",
       "<table id=\"T_e0076_\">\n",
       "  <thead>\n",
       "    <tr>\n",
       "      <th class=\"blank level0\" >&nbsp;</th>\n",
       "      <th class=\"col_heading level0 col0\" >Total</th>\n",
       "      <th class=\"col_heading level0 col1\" >Percent</th>\n",
       "    </tr>\n",
       "  </thead>\n",
       "  <tbody>\n",
       "    <tr>\n",
       "      <th id=\"T_e0076_level0_row0\" class=\"row_heading level0 row0\" >10GB to 50GB</th>\n",
       "      <td id=\"T_e0076_row0_col0\" class=\"data row0 col0\" >21</td>\n",
       "      <td id=\"T_e0076_row0_col1\" class=\"data row0 col1\" >42.000000</td>\n",
       "    </tr>\n",
       "    <tr>\n",
       "      <th id=\"T_e0076_level0_row1\" class=\"row_heading level0 row1\" >More than 50GB</th>\n",
       "      <td id=\"T_e0076_row1_col0\" class=\"data row1 col0\" >20</td>\n",
       "      <td id=\"T_e0076_row1_col1\" class=\"data row1 col1\" >40.000000</td>\n",
       "    </tr>\n",
       "    <tr>\n",
       "      <th id=\"T_e0076_level0_row2\" class=\"row_heading level0 row2\" >1GB to 10GB</th>\n",
       "      <td id=\"T_e0076_row2_col0\" class=\"data row2 col0\" >6</td>\n",
       "      <td id=\"T_e0076_row2_col1\" class=\"data row2 col1\" >12.000000</td>\n",
       "    </tr>\n",
       "    <tr>\n",
       "      <th id=\"T_e0076_level0_row3\" class=\"row_heading level0 row3\" >100MB to 1GB</th>\n",
       "      <td id=\"T_e0076_row3_col0\" class=\"data row3 col0\" >3</td>\n",
       "      <td id=\"T_e0076_row3_col1\" class=\"data row3 col1\" >6.000000</td>\n",
       "    </tr>\n",
       "  </tbody>\n",
       "</table>\n"
      ],
      "text/plain": [
       "<pandas.io.formats.style.Styler at 0x2f8cef04588>"
      ]
     },
     "execution_count": 34,
     "metadata": {},
     "output_type": "execute_result"
    }
   ],
   "source": [
    "percent_value_counts(data, 'Q8').style.background_gradient(cmap='bwr')"
   ]
  },
  {
   "cell_type": "markdown",
   "metadata": {},
   "source": []
  },
  {
   "cell_type": "code",
   "execution_count": 36,
   "metadata": {},
   "outputs": [
    {
     "data": {
      "image/png": "[encoded data removed]",
      "text/plain": [
       "<Figure size 432x288 with 1 Axes>"
      ]
     },
     "metadata": {},
     "output_type": "display_data"
    }
   ],
   "source": [
    "import matplotlib.pyplot as plt\n",
    "\n",
    "# slices will be plotted counter-clockwise:\n",
    "labels = ['100MB-1GB','1GB-10GB','10GB-50GB','MORE THAN 50GB']\n",
    "sizes = [6,12,42,40]\n",
    "explode = [0.1, 0,0.1,0.1]\n",
    "plt.pie(sizes, explode=explode, labels=labels, autopct=\"%1.2f%%\",\n",
    "        colors=[\"red\",\"green\",\"purple\",\"yellow\"],\n",
    "        shadow=True, startangle=90,counterclock=True)\n",
    "\n",
    "plt.show()"
   ]
  },
  {
   "cell_type": "markdown",
   "metadata": {},
   "source": [
    "# NETWORK ARE YOU LIKELY TO RECOMMEND TO A TOURIST"
   ]
  },
  {
   "cell_type": "code",
   "execution_count": 37,
   "metadata": {},
   "outputs": [
    {
     "data": {
      "text/html": [
       "<style type=\"text/css\">\n",
       "#T_ec030_row0_col0, #T_ec030_row0_col1 {\n",
       "  background-color: #ff0000;\n",
       "  color: #f1f1f1;\n",
       "}\n",
       "#T_ec030_row1_col0, #T_ec030_row1_col1 {\n",
       "  background-color: #ff1616;\n",
       "  color: #f1f1f1;\n",
       "}\n",
       "#T_ec030_row2_col0, #T_ec030_row2_col1 {\n",
       "  background-color: #1616ff;\n",
       "  color: #f1f1f1;\n",
       "}\n",
       "#T_ec030_row3_col0, #T_ec030_row3_col1 {\n",
       "  background-color: #0000ff;\n",
       "  color: #f1f1f1;\n",
       "}\n",
       "</style>\n",
       "<table id=\"T_ec030_\">\n",
       "  <thead>\n",
       "    <tr>\n",
       "      <th class=\"blank level0\" >&nbsp;</th>\n",
       "      <th class=\"col_heading level0 col0\" >Total</th>\n",
       "      <th class=\"col_heading level0 col1\" >Percent</th>\n",
       "    </tr>\n",
       "  </thead>\n",
       "  <tbody>\n",
       "    <tr>\n",
       "      <th id=\"T_ec030_level0_row0\" class=\"row_heading level0 row0\" >Jio</th>\n",
       "      <td id=\"T_ec030_row0_col0\" class=\"data row0 col0\" >24</td>\n",
       "      <td id=\"T_ec030_row0_col1\" class=\"data row0 col1\" >48.000000</td>\n",
       "    </tr>\n",
       "    <tr>\n",
       "      <th id=\"T_ec030_level0_row1\" class=\"row_heading level0 row1\" >Airtel</th>\n",
       "      <td id=\"T_ec030_row1_col0\" class=\"data row1 col0\" >23</td>\n",
       "      <td id=\"T_ec030_row1_col1\" class=\"data row1 col1\" >46.000000</td>\n",
       "    </tr>\n",
       "    <tr>\n",
       "      <th id=\"T_ec030_level0_row2\" class=\"row_heading level0 row2\" >Vodafone Idea (VI)</th>\n",
       "      <td id=\"T_ec030_row2_col0\" class=\"data row2 col0\" >2</td>\n",
       "      <td id=\"T_ec030_row2_col1\" class=\"data row2 col1\" >4.000000</td>\n",
       "    </tr>\n",
       "    <tr>\n",
       "      <th id=\"T_ec030_level0_row3\" class=\"row_heading level0 row3\" >Others</th>\n",
       "      <td id=\"T_ec030_row3_col0\" class=\"data row3 col0\" >1</td>\n",
       "      <td id=\"T_ec030_row3_col1\" class=\"data row3 col1\" >2.000000</td>\n",
       "    </tr>\n",
       "  </tbody>\n",
       "</table>\n"
      ],
      "text/plain": [
       "<pandas.io.formats.style.Styler at 0x2f8cec85548>"
      ]
     },
     "execution_count": 37,
     "metadata": {},
     "output_type": "execute_result"
    }
   ],
   "source": [
    "percent_value_counts(data, 'Q11').style.background_gradient(cmap='bwr')"
   ]
  },
  {
   "cell_type": "code",
   "execution_count": null,
   "metadata": {},
   "outputs": [],
   "source": []
  },
  {
   "cell_type": "code",
   "execution_count": 40,
   "metadata": {},
   "outputs": [
    {
     "data": {
      "image/png": "[encoded data removed]",
      "text/plain": [
       "<Figure size 432x288 with 1 Axes>"
      ]
     },
     "metadata": {},
     "output_type": "display_data"
    }
   ],
   "source": [
    "import matplotlib.pyplot as plt\n",
    "\n",
    "# slices will be plotted counter-clockwise:\n",
    "labels = ['AIRTEL','JIO','(VI)','Other']\n",
    "sizes = [46,48,4,2]\n",
    "explode = [0.1, 0,0.1,0.1]\n",
    "plt.pie(sizes, explode=explode, labels=labels, autopct=\"%1.2f%%\",\n",
    "        colors=[\"red\",\"green\",\"purple\",\"yellow\"],\n",
    "        shadow=True, startangle=90,counterclock=True)\n",
    "\n",
    "plt.show()"
   ]
  },
  {
   "cell_type": "markdown",
   "metadata": {},
   "source": [
    "# WHICH NETWORK DO YOU USE  MORE OFTEN?"
   ]
  },
  {
   "cell_type": "code",
   "execution_count": 41,
   "metadata": {},
   "outputs": [
    {
     "data": {
      "text/html": [
       "<style type=\"text/css\">\n",
       "#T_74ece_row0_col0, #T_74ece_row0_col1 {\n",
       "  background-color: #ff0000;\n",
       "  color: #f1f1f1;\n",
       "}\n",
       "#T_74ece_row1_col0, #T_74ece_row1_col1 {\n",
       "  background-color: #ffaaaa;\n",
       "  color: #000000;\n",
       "}\n",
       "#T_74ece_row2_col0, #T_74ece_row2_col1 {\n",
       "  background-color: #0000ff;\n",
       "  color: #f1f1f1;\n",
       "}\n",
       "</style>\n",
       "<table id=\"T_74ece_\">\n",
       "  <thead>\n",
       "    <tr>\n",
       "      <th class=\"blank level0\" >&nbsp;</th>\n",
       "      <th class=\"col_heading level0 col0\" >Total</th>\n",
       "      <th class=\"col_heading level0 col1\" >Percent</th>\n",
       "    </tr>\n",
       "  </thead>\n",
       "  <tbody>\n",
       "    <tr>\n",
       "      <th id=\"T_74ece_level0_row0\" class=\"row_heading level0 row0\" >Airtel</th>\n",
       "      <td id=\"T_74ece_row0_col0\" class=\"data row0 col0\" >22</td>\n",
       "      <td id=\"T_74ece_row0_col1\" class=\"data row0 col1\" >44.000000</td>\n",
       "    </tr>\n",
       "    <tr>\n",
       "      <th id=\"T_74ece_level0_row1\" class=\"row_heading level0 row1\" >Jio</th>\n",
       "      <td id=\"T_74ece_row1_col0\" class=\"data row1 col0\" >18</td>\n",
       "      <td id=\"T_74ece_row1_col1\" class=\"data row1 col1\" >36.000000</td>\n",
       "    </tr>\n",
       "    <tr>\n",
       "      <th id=\"T_74ece_level0_row2\" class=\"row_heading level0 row2\" >Vodafone Idea (VI)</th>\n",
       "      <td id=\"T_74ece_row2_col0\" class=\"data row2 col0\" >10</td>\n",
       "      <td id=\"T_74ece_row2_col1\" class=\"data row2 col1\" >20.000000</td>\n",
       "    </tr>\n",
       "  </tbody>\n",
       "</table>\n"
      ],
      "text/plain": [
       "<pandas.io.formats.style.Styler at 0x2f8cf125e88>"
      ]
     },
     "execution_count": 41,
     "metadata": {},
     "output_type": "execute_result"
    }
   ],
   "source": [
    "percent_value_counts(data, 'Q12').style.background_gradient(cmap='bwr')"
   ]
  },
  {
   "cell_type": "markdown",
   "metadata": {},
   "source": []
  },
  {
   "cell_type": "code",
   "execution_count": 42,
   "metadata": {},
   "outputs": [
    {
     "data": {
      "image/png": "[encoded data removed]",
      "text/plain": [
       "<Figure size 432x288 with 1 Axes>"
      ]
     },
     "metadata": {},
     "output_type": "display_data"
    }
   ],
   "source": [
    "import matplotlib.pyplot as plt\n",
    "\n",
    "# slices will be plotted counter-clockwise:\n",
    "labels = ['AIRTEL','JIO','Vodaafone-Idea']\n",
    "sizes = [44,36,20]\n",
    "explode = [0.1, 0,0.1]\n",
    "plt.pie(sizes, explode=explode, labels=labels, autopct=\"%1.2f%%\",\n",
    "        colors=[\"red\",\"green\",\"purple\",\"yellow\"],\n",
    "        shadow=True, startangle=90,counterclock=True)\n",
    "\n",
    "plt.show()"
   ]
  },
  {
   "cell_type": "markdown",
   "metadata": {},
   "source": [
    "# WHY DO YOU USE CURRENT NETWORK?"
   ]
  },
  {
   "cell_type": "code",
   "execution_count": 43,
   "metadata": {},
   "outputs": [
    {
     "data": {
      "text/html": [
       "<style type=\"text/css\">\n",
       "#T_c26a4_row0_col0, #T_c26a4_row0_col1 {\n",
       "  background-color: #ff0000;\n",
       "  color: #f1f1f1;\n",
       "}\n",
       "#T_c26a4_row1_col0, #T_c26a4_row1_col1 {\n",
       "  background-color: #4e4eff;\n",
       "  color: #f1f1f1;\n",
       "}\n",
       "#T_c26a4_row2_col0, #T_c26a4_row2_col1 {\n",
       "  background-color: #0c0cff;\n",
       "  color: #f1f1f1;\n",
       "}\n",
       "#T_c26a4_row3_col0, #T_c26a4_row3_col1 {\n",
       "  background-color: #0000ff;\n",
       "  color: #f1f1f1;\n",
       "}\n",
       "</style>\n",
       "<table id=\"T_c26a4_\">\n",
       "  <thead>\n",
       "    <tr>\n",
       "      <th class=\"blank level0\" >&nbsp;</th>\n",
       "      <th class=\"col_heading level0 col0\" >Total</th>\n",
       "      <th class=\"col_heading level0 col1\" >Percent</th>\n",
       "    </tr>\n",
       "  </thead>\n",
       "  <tbody>\n",
       "    <tr>\n",
       "      <th id=\"T_c26a4_level0_row0\" class=\"row_heading level0 row0\" >nan</th>\n",
       "      <td id=\"T_c26a4_row0_col0\" class=\"data row0 col0\" >40</td>\n",
       "      <td id=\"T_c26a4_row0_col1\" class=\"data row0 col1\" >80.000000</td>\n",
       "    </tr>\n",
       "    <tr>\n",
       "      <th id=\"T_c26a4_level0_row1\" class=\"row_heading level0 row1\" >Others</th>\n",
       "      <td id=\"T_c26a4_row1_col0\" class=\"data row1 col0\" >7</td>\n",
       "      <td id=\"T_c26a4_row1_col1\" class=\"data row1 col1\" >14.000000</td>\n",
       "    </tr>\n",
       "    <tr>\n",
       "      <th id=\"T_c26a4_level0_row2\" class=\"row_heading level0 row2\" >High quality</th>\n",
       "      <td id=\"T_c26a4_row2_col0\" class=\"data row2 col0\" >2</td>\n",
       "      <td id=\"T_c26a4_row2_col1\" class=\"data row2 col1\" >4.000000</td>\n",
       "    </tr>\n",
       "    <tr>\n",
       "      <th id=\"T_c26a4_level0_row3\" class=\"row_heading level0 row3\" >Low price</th>\n",
       "      <td id=\"T_c26a4_row3_col0\" class=\"data row3 col0\" >1</td>\n",
       "      <td id=\"T_c26a4_row3_col1\" class=\"data row3 col1\" >2.000000</td>\n",
       "    </tr>\n",
       "  </tbody>\n",
       "</table>\n"
      ],
      "text/plain": [
       "<pandas.io.formats.style.Styler at 0x2f8cf19ccc8>"
      ]
     },
     "execution_count": 43,
     "metadata": {},
     "output_type": "execute_result"
    }
   ],
   "source": [
    "percent_value_counts(data, 'Q13-VI').style.background_gradient(cmap='bwr')"
   ]
  },
  {
   "cell_type": "code",
   "execution_count": 44,
   "metadata": {},
   "outputs": [
    {
     "data": {
      "text/plain": [
       "(array([0, 1, 2]),\n",
       " [Text(0, 0, 'Low price'), Text(1, 0, 'Others'), Text(2, 0, 'High quality')])"
      ]
     },
     "execution_count": 44,
     "metadata": {},
     "output_type": "execute_result"
    },
    {
     "data": {
      "image/png": "[encoded data removed]",
      "text/plain": [
       "<Figure size 432x288 with 1 Axes>"
      ]
     },
     "metadata": {
      "needs_background": "light"
     },
     "output_type": "display_data"
    }
   ],
   "source": [
    "fig=sns.countplot(x='Q13-VI',data=data,palette='Set1')\n",
    "plt.xticks(rotation=0) "
   ]
  },
  {
   "cell_type": "markdown",
   "metadata": {},
   "source": [
    "# HOW MUCH ARE YOU PAYING FOR YOUR MOBILE BILL & WIFI PER MONTH?"
   ]
  },
  {
   "cell_type": "code",
   "execution_count": 45,
   "metadata": {},
   "outputs": [
    {
     "data": {
      "text/html": [
       "<style type=\"text/css\">\n",
       "#T_6de57_row0_col0, #T_6de57_row0_col1 {\n",
       "  background-color: #ff0000;\n",
       "  color: #f1f1f1;\n",
       "}\n",
       "#T_6de57_row1_col0, #T_6de57_row1_col1 {\n",
       "  background-color: #1c1cff;\n",
       "  color: #f1f1f1;\n",
       "}\n",
       "#T_6de57_row2_col0, #T_6de57_row2_col1 {\n",
       "  background-color: #0000ff;\n",
       "  color: #f1f1f1;\n",
       "}\n",
       "</style>\n",
       "<table id=\"T_6de57_\">\n",
       "  <thead>\n",
       "    <tr>\n",
       "      <th class=\"blank level0\" >&nbsp;</th>\n",
       "      <th class=\"col_heading level0 col0\" >Total</th>\n",
       "      <th class=\"col_heading level0 col1\" >Percent</th>\n",
       "    </tr>\n",
       "  </thead>\n",
       "  <tbody>\n",
       "    <tr>\n",
       "      <th id=\"T_6de57_level0_row0\" class=\"row_heading level0 row0\" >nan</th>\n",
       "      <td id=\"T_6de57_row0_col0\" class=\"data row0 col0\" >40</td>\n",
       "      <td id=\"T_6de57_row0_col1\" class=\"data row0 col1\" >80.000000</td>\n",
       "    </tr>\n",
       "    <tr>\n",
       "      <th id=\"T_6de57_level0_row1\" class=\"row_heading level0 row1\" >Rs. 1000-3000</th>\n",
       "      <td id=\"T_6de57_row1_col0\" class=\"data row1 col0\" >6</td>\n",
       "      <td id=\"T_6de57_row1_col1\" class=\"data row1 col1\" >12.000000</td>\n",
       "    </tr>\n",
       "    <tr>\n",
       "      <th id=\"T_6de57_level0_row2\" class=\"row_heading level0 row2\" >Less than Rs. 1000</th>\n",
       "      <td id=\"T_6de57_row2_col0\" class=\"data row2 col0\" >4</td>\n",
       "      <td id=\"T_6de57_row2_col1\" class=\"data row2 col1\" >8.000000</td>\n",
       "    </tr>\n",
       "  </tbody>\n",
       "</table>\n"
      ],
      "text/plain": [
       "<pandas.io.formats.style.Styler at 0x2f8cf229b88>"
      ]
     },
     "execution_count": 45,
     "metadata": {},
     "output_type": "execute_result"
    }
   ],
   "source": [
    "percent_value_counts(data, 'Q14-VI').style.background_gradient(cmap='bwr')"
   ]
  },
  {
   "cell_type": "code",
   "execution_count": 46,
   "metadata": {},
   "outputs": [
    {
     "data": {
      "text/plain": [
       "(array([0, 1]),\n",
       " [Text(0, 0, 'Less than Rs. 1000'), Text(1, 0, 'Rs. 1000-3000')])"
      ]
     },
     "execution_count": 46,
     "metadata": {},
     "output_type": "execute_result"
    },
    {
     "data": {
      "image/png": "[encoded data removed]",
      "text/plain": [
       "<Figure size 432x288 with 1 Axes>"
      ]
     },
     "metadata": {
      "needs_background": "light"
     },
     "output_type": "display_data"
    }
   ],
   "source": [
    "fig=sns.countplot(x='Q14-VI',data=data,palette='Set1')\n",
    "plt.xticks(rotation=0) "
   ]
  },
  {
   "cell_type": "code",
   "execution_count": null,
   "metadata": {},
   "outputs": [],
   "source": []
  },
  {
   "cell_type": "code",
   "execution_count": null,
   "metadata": {},
   "outputs": [],
   "source": []
  },
  {
   "cell_type": "code",
   "execution_count": null,
   "metadata": {},
   "outputs": [],
   "source": []
  },
  {
   "cell_type": "code",
   "execution_count": null,
   "metadata": {},
   "outputs": [],
   "source": []
  },
  {
   "cell_type": "code",
   "execution_count": null,
   "metadata": {},
   "outputs": [],
   "source": []
  },
  {
   "cell_type": "code",
   "execution_count": null,
   "metadata": {},
   "outputs": [],
   "source": []
  }
 ],
 "metadata": {
  "kernelspec": {
   "display_name": "Python 3",
   "language": "python",
   "name": "python3"
  },
  "language_info": {
   "codemirror_mode": {
    "name": "ipython",
    "version": 3
   },
   "file_extension": ".py",
   "mimetype": "text/x-python",
   "name": "python",
   "nbconvert_exporter": "python",
   "pygments_lexer": "ipython3",
   "version": "3.7.6"
  }
 },
 "nbformat": 4,
 "nbformat_minor": 4
}
